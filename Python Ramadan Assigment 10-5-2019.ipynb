{
 "cells": [
  {
   "cell_type": "markdown",
   "metadata": {},
   "source": [
    "False \tclass \tfinally \tis \treturn\n",
    "None \tcontinue \tfor \tlambda \ttry\n",
    "True \tdef \tfrom \tnonlocal \twhile\n",
    "and \tdel \tglobal \tnot \twith\n",
    "as \telif \tif \tor \tyield\n",
    "assert \telse \timport \tpass \t \n",
    "break \texcept \tin \traise"
   ]
  },
  {
   "cell_type": "code",
   "execution_count": 10,
   "metadata": {},
   "outputs": [
    {
     "ename": "SyntaxError",
     "evalue": "invalid syntax (<ipython-input-10-357d309e6564>, line 3)",
     "output_type": "error",
     "traceback": [
      "\u001b[1;36m  File \u001b[1;32m\"<ipython-input-10-357d309e6564>\"\u001b[1;36m, line \u001b[1;32m3\u001b[0m\n\u001b[1;33m    class=2\u001b[0m\n\u001b[1;37m         ^\u001b[0m\n\u001b[1;31mSyntaxError\u001b[0m\u001b[1;31m:\u001b[0m invalid syntax\n"
     ]
    }
   ],
   "source": [
    "False=2\n",
    "print (\"False\")\n",
    "class=2\n",
    "print (\"class\")\n",
    "True=2\n",
    "print (\"True\")\n",
    "def=2\n",
    "print (\"def\")\n",
    "del=2\n",
    "print (\"del\")\n",
    "class=2\n",
    "print (\"assert\")\n",
    "class=2\n",
    "print (\"continue\")\n",
    "class=2\n",
    "print (\"as\")\n",
    "class=2\n",
    "print (\"if\")\n",
    "class=2\n",
    "print (\"break\")"
   ]
  },
  {
   "cell_type": "code",
   "execution_count": 16,
   "metadata": {},
   "outputs": [
    {
     "data": {
      "text/plain": [
       "2"
      ]
     },
     "execution_count": 16,
     "metadata": {},
     "output_type": "execute_result"
    }
   ],
   "source": [
    "a=2\n",
    "a"
   ]
  },
  {
   "cell_type": "code",
   "execution_count": 20,
   "metadata": {},
   "outputs": [
    {
     "data": {
      "text/plain": [
       "10"
      ]
     },
     "execution_count": 20,
     "metadata": {},
     "output_type": "execute_result"
    }
   ],
   "source": [
    "b,c,d,e,f,g,h,i = 3,4,5,6,7,8,9,10\n",
    "b\n",
    "c\n",
    "d\n",
    "e\n",
    "f\n",
    "g\n",
    "h\n",
    "i"
   ]
  }
 ],
 "metadata": {
  "kernelspec": {
   "display_name": "Python 3",
   "language": "python",
   "name": "python3"
  },
  "language_info": {
   "codemirror_mode": {
    "name": "ipython",
    "version": 3
   },
   "file_extension": ".py",
   "mimetype": "text/x-python",
   "name": "python",
   "nbconvert_exporter": "python",
   "pygments_lexer": "ipython3",
   "version": "3.7.3"
  }
 },
 "nbformat": 4,
 "nbformat_minor": 2
}
